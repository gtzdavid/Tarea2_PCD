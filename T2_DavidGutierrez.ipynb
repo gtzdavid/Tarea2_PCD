{
 "cells": [
  {
   "cell_type": "markdown",
   "id": "bf426da9",
   "metadata": {},
   "source": [
    "# Resumen del artículo: *What is MLOps?* (AWS)\n",
    "\n",
    "## 1. ¿Qué es MLOps?\n",
    "MLOps (Machine Learning Operations) es la práctica que combina **desarrollo de modelos de ML** con **operaciones de TI/producción**.  \n",
    "Su objetivo principal es **automatizar y estandarizar** el ciclo de vida de los modelos de ML: desde la recolección de datos y entrenamiento hasta el despliegue y monitoreo en producción.\n",
    "\n",
    "---\n",
    "\n",
    "## 2. Beneficios principales\n",
    "- **Time-to-market más rápido:** la automatización acelera el entrenamiento y despliegue.  \n",
    "- **Mayor productividad:** procesos repetibles y ambientes estandarizados para experimentación.  \n",
    "- **Despliegue confiable:** control de versiones de modelos, rollback y trazabilidad.  \n",
    "- **Gobernanza y cumplimiento:** seguridad, documentación, colaboración y auditoría de modelos.\n",
    "\n",
    "---\n",
    "\n",
    "## 3. Principios clave de MLOps\n",
    "- **Control de versiones:** no solo para el código, también para datos y modelos.  \n",
    "- **Automatización:** en ingestión de datos, entrenamiento, validación y despliegue (usando *Infrastructure as Code*).  \n",
    "- **Continuous X:**  \n",
    "  - *Continuous Integration (CI)* → pruebas de código.  \n",
    "  - *Continuous Delivery (CD)* → despliegue automatizado.  \n",
    "  - *Continuous Training (CT)* → reentrenar modelos con datos nuevos.  \n",
    "- **Monitoreo continuo:** del rendimiento del modelo y del negocio.  \n",
    "- **Gobernanza:** garantizar seguridad, colaboración y revisiones antes de producción.\n",
    "\n",
    "---\n",
    "\n",
    "## 4. Niveles de madurez en MLOps\n",
    "- **Nivel 0:** procesos manuales, entrega de modelos a ingeniería sin monitoreo.  \n",
    "- **Nivel 1:** *pipelines* automatizados, entrenamiento continuo y uso de *feature store*.  \n",
    "- **Nivel 2:** orquestación a gran escala, *model registry* y entrega continua de múltiples modelos.\n",
    "\n",
    "---\n",
    "\n",
    "## 5. Importancia del despliegue en producción\n",
    "- Los modelos solo generan **valor real** si están en producción.  \n",
    "- El mundo real cambia → se requiere **monitoreo y retraining** para mantener precisión.  \n",
    "- La automatización reduce errores humanos y mejora la **confiabilidad**.  \n",
    "- Asegura **seguridad, cumplimiento y ética** en el uso de modelos.\n",
    "\n",
    "---\n",
    "\n",
    "## 6. Conclusión\n",
    "MLOps lleva las prácticas de ingeniería de software al mundo del ML.  \n",
    "Permite que los modelos lleguen a producción **de forma confiable, escalable y segura**, evitando los llamados *notebooks huérfanos* y asegurando impacto en el negocio.\n",
    "\n",
    "---\n",
    "\n",
    "**Referencia:** [AWS — What is MLOps?](https://aws.amazon.com/es/what-is/mlops/)\n"
   ]
  },
  {
   "cell_type": "markdown",
   "id": "notas-extra",
   "metadata": {},
   "source": [
    "## Notas adicionales\n",
    "- El monitoreo de datos permite detectar *drift* en las distribuciones de entrada.\n",
    "- Es importante planear **reentrenamiento periódico** para mantener la calidad del modelo.\n",
    "- Una práctica recomendada es integrar métricas de negocio junto con métricas de ML.\n"
   ]
  }
 ],
 "metadata": {
  "kernelspec": {
   "display_name": "Python 3 (ipykernel)",
   "language": "python",
   "name": "python3"
  },
  "language_info": {
   "codemirror_mode": {
    "name": "ipython",
    "version": 3
   },
   "file_extension": ".py",
   "mimetype": "text/x-python",
   "name": "python",
   "nbconvert_exporter": "python",
   "pygments_lexer": "ipython3",
   "version": "3.11.5"
  }
 },
 "nbformat": 4,
 "nbformat_minor": 5
}

